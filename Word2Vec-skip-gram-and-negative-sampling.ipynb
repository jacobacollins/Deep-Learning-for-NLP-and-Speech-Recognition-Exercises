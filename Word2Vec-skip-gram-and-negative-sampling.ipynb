{
 "cells": [
  {
   "cell_type": "code",
   "execution_count": 1,
   "metadata": {},
   "outputs": [
    {
     "name": "stderr",
     "output_type": "stream",
     "text": [
      "C:\\Users\\jacob\\anaconda3\\lib\\site-packages\\sklearn\\utils\\deprecation.py:143: FutureWarning: The sklearn.feature_extraction.stop_words module is  deprecated in version 0.22 and will be removed in version 0.24. The corresponding classes / functions should instead be imported from sklearn.feature_extraction.text. Anything that cannot be imported from sklearn.feature_extraction.text is now part of the private API.\n",
      "  warnings.warn(message, FutureWarning)\n"
     ]
    },
    {
     "name": "stdout",
     "output_type": "stream",
     "text": [
      "Packages imported\n"
     ]
    }
   ],
   "source": [
    "import glob\n",
    "import numpy as np\n",
    "import pandas as pd\n",
    "from sklearn.manifold import TSNE\n",
    "from sklearn.feature_extraction import stop_words\n",
    "import math\n",
    "import re\n",
    "import string\n",
    "import nltk\n",
    "from nltk import tokenize, sent_tokenize\n",
    "\n",
    "print(\"Packages imported\")"
   ]
  },
  {
   "cell_type": "markdown",
   "metadata": {},
   "source": [
    "# Exploratory Data Analysis"
   ]
  },
  {
   "cell_type": "markdown",
   "metadata": {},
   "source": [
    "# 1.1 Get Data"
   ]
  },
  {
   "cell_type": "code",
   "execution_count": 59,
   "metadata": {},
   "outputs": [],
   "source": [
    "# Done in command line"
   ]
  },
  {
   "cell_type": "markdown",
   "metadata": {},
   "source": [
    "# 1.2 Load Data"
   ]
  },
  {
   "cell_type": "code",
   "execution_count": 69,
   "metadata": {},
   "outputs": [
    {
     "data": {
      "text/plain": [
       "filename    4531\n",
       "text        4531\n",
       "dtype: int64"
      ]
     },
     "execution_count": 69,
     "metadata": {},
     "output_type": "execute_result"
    }
   ],
   "source": [
    "ndf = pd.DataFrame(columns=[\"filename\",'text'])\n",
    "path = \"C:\\\\Users\\\\jacob\\\\OneDrive\\\\Desktop\\\\GitHub\\\\Deep-Learning-for-NLP-and-Speech-Recognition\\\\data\"\n",
    "\n",
    "\n",
    "for datafile in glob.glob(path + \"/slate/*/*.txt\"):\n",
    "    f=open(datafile,\"r\",encoding=\"utf-8\")\n",
    "    ndf = ndf.append( {'filename':datafile,'text':f.read()} ,ignore_index=True)\n",
    "    f.close()\n",
    "\n",
    "ndf.count()"
   ]
  },
  {
   "cell_type": "code",
   "execution_count": 71,
   "metadata": {},
   "outputs": [
    {
     "name": "stderr",
     "output_type": "stream",
     "text": [
      "[nltk_data] Downloading package punkt to\n",
      "[nltk_data]     C:\\Users\\jacob\\AppData\\Roaming\\nltk_data...\n",
      "[nltk_data]   Unzipping tokenizers\\punkt.zip.\n"
     ]
    },
    {
     "data": {
      "text/plain": [
       "text    214225\n",
       "dtype: int64"
      ]
     },
     "execution_count": 71,
     "metadata": {},
     "output_type": "execute_result"
    }
   ],
   "source": [
    "nltk.download('punkt')\n",
    "\n",
    "df = pd.DataFrame()\n",
    "for f in ndf['text']:\n",
    "    sentence = sent_tokenize(f)\n",
    "    df = df.append(sentence)\n",
    "df.columns = ['text']\n",
    "df.count()"
   ]
  },
  {
   "cell_type": "markdown",
   "metadata": {},
   "source": [
    "# 1.3 PreProcessing"
   ]
  },
  {
   "cell_type": "markdown",
   "metadata": {},
   "source": [
    "need to remove punctuation, hidden characters, and uppercase"
   ]
  },
  {
   "cell_type": "code",
   "execution_count": 74,
   "metadata": {},
   "outputs": [
    {
     "data": {
      "text/html": [
       "<div>\n",
       "<style scoped>\n",
       "    .dataframe tbody tr th:only-of-type {\n",
       "        vertical-align: middle;\n",
       "    }\n",
       "\n",
       "    .dataframe tbody tr th {\n",
       "        vertical-align: top;\n",
       "    }\n",
       "\n",
       "    .dataframe thead th {\n",
       "        text-align: right;\n",
       "    }\n",
       "</style>\n",
       "<table border=\"1\" class=\"dataframe\">\n",
       "  <thead>\n",
       "    <tr style=\"text-align: right;\">\n",
       "      <th></th>\n",
       "      <th>text</th>\n",
       "    </tr>\n",
       "  </thead>\n",
       "  <tbody>\n",
       "    <tr>\n",
       "      <th>0</th>\n",
       "      <td>harmonic convergences you are right maxim stro...</td>\n",
       "    </tr>\n",
       "    <tr>\n",
       "      <th>1</th>\n",
       "      <td>it a sendup of the old model but in a differen...</td>\n",
       "    </tr>\n",
       "    <tr>\n",
       "      <th>2</th>\n",
       "      <td>with its belligerent grossness and misogyny hu...</td>\n",
       "    </tr>\n",
       "    <tr>\n",
       "      <th>3</th>\n",
       "      <td>it came right out with the anger that the regu...</td>\n",
       "    </tr>\n",
       "    <tr>\n",
       "      <th>4</th>\n",
       "      <td>maxim pokes fun at its progenitors but with co...</td>\n",
       "    </tr>\n",
       "  </tbody>\n",
       "</table>\n",
       "</div>"
      ],
      "text/plain": [
       "                                                text\n",
       "0  harmonic convergences you are right maxim stro...\n",
       "1  it a sendup of the old model but in a differen...\n",
       "2  with its belligerent grossness and misogyny hu...\n",
       "3  it came right out with the anger that the regu...\n",
       "4  maxim pokes fun at its progenitors but with co..."
      ]
     },
     "execution_count": 74,
     "metadata": {},
     "output_type": "execute_result"
    }
   ],
   "source": [
    "def process_text(text):\n",
    "    \n",
    "    text = re.sub(r\"\\\\n\", \" \", text)\n",
    "    text = re.sub(r\"\\n\", \" \", text)\n",
    "    \n",
    "#     Remove punctuation\n",
    "    text = text.translate(string.punctuation)\n",
    "    \n",
    "#     Convert words to lower case and split them\n",
    "    text = text.lower().split()\n",
    "    \n",
    "    text = \" \".join(text)\n",
    "    #Clean text up\n",
    "    text = re.sub(r\"[^A-Za-z0-9^,!.\\/'+-=]\", \" \", text)\n",
    "    text = re.sub(r\"what's\", \"what is \", text)\n",
    "    text = re.sub(r\"\\'s\", \" \", text)\n",
    "    text = re.sub(r\"\\'ve\", \" have \", text)\n",
    "    text = re.sub(r\"n't\", \" not \", text)\n",
    "    text = re.sub(r\"i'm\", \"i am \", text)\n",
    "    text = re.sub(r\"\\'re\", \" are \", text)\n",
    "    text = re.sub(r\"\\'d\", \" would \", text)\n",
    "    text = re.sub(r\"\\'ll\", \" will \", text)\n",
    "    text = re.sub(r\",\", \" \", text)\n",
    "    text = re.sub(r\"\\.\", \" \", text)\n",
    "    text = re.sub(r\"!\", \" ! \", text)\n",
    "    text = re.sub(r\"\\/\", \" \", text)\n",
    "    text = re.sub(r\"\\^\", \" ^ \", text)\n",
    "    text = re.sub(r\"\\+\", \" + \", text)\n",
    "    text = re.sub(r\"\\-\", \" - \", text)\n",
    "    text = re.sub(r\"\\=\", \" = \", text)\n",
    "    text = re.sub(r\"'\", \" \", text)\n",
    "    text = re.sub(r\"(\\d+)(k)\", r\"\\g<1>000\", text)\n",
    "    text = re.sub(r\":\", \" : \", text)\n",
    "    text = re.sub(r\" e g \", \" eg \", text)\n",
    "    text = re.sub(r\" b g \", \" bg \", text)\n",
    "    text = re.sub(r\" u s \", \" american \", text)\n",
    "    text = re.sub(r\"\\0s\", \"0\", text)\n",
    "    text = re.sub(r\" 9 11 \", \"911\", text)\n",
    "    text = re.sub(r\"e - mail\", \"email\", text)\n",
    "    text = re.sub(r\"j k\", \"jk\", text)\n",
    "    text = re.sub(r\"\\s{2,}\", \" \", text)\n",
    "    \n",
    "    return text\n",
    "\n",
    "# apply cleaning function to df['text']\n",
    "df['text'] = df['text'].map(lambda x: process_text(x))\n",
    "\n",
    "corpus = df['text'].tolist()\n",
    "df.head()"
   ]
  },
  {
   "cell_type": "markdown",
   "metadata": {},
   "source": [
    "calculate basic stats such as document & sentence length"
   ]
  },
  {
   "cell_type": "code",
   "execution_count": 77,
   "metadata": {},
   "outputs": [
    {
     "data": {
      "text/plain": [
       "array([[<AxesSubplot:title={'center':'document length'}>]], dtype=object)"
      ]
     },
     "execution_count": 77,
     "metadata": {},
     "output_type": "execute_result"
    },
    {
     "data": {
      "image/png": "[encoded data removed]",
      "text/plain": [
       "<Figure size 432x288 with 1 Axes>"
      ]
     },
     "metadata": {
      "needs_background": "light"
     },
     "output_type": "display_data"
    }
   ],
   "source": [
    "#document length histogram\n",
    "\n",
    "pd.DataFrame([len(x.split()) for x in ndf['text']], columns=['document length']).hist(bins=50)"
   ]
  },
  {
   "cell_type": "code",
   "execution_count": 81,
   "metadata": {},
   "outputs": [
    {
     "data": {
      "text/plain": [
       "array([[<AxesSubplot:title={'center':'sentence length'}>]], dtype=object)"
      ]
     },
     "execution_count": 81,
     "metadata": {},
     "output_type": "execute_result"
    },
    {
     "data": {
      "image/png": "[encoded data removed]",
      "text/plain": [
       "<Figure size 432x288 with 1 Axes>"
      ]
     },
     "metadata": {
      "needs_background": "light"
     },
     "output_type": "display_data"
    }
   ],
   "source": [
    "pd.DataFrame([len(x.split()) for x in df['text']], columns = ['sentence length']).hist(bins=50, range=(0,100))"
   ]
  },
  {
   "cell_type": "markdown",
   "metadata": {},
   "source": [
    "examine other useful metrics such as top 1000 terms. "
   ]
  },
  {
   "cell_type": "markdown",
   "metadata": {},
   "source": [
    "words = [tokenize.word_tokenize(x) for x in corpus]\n",
    "words = [y for x in words for y in x]\n",
    "\n",
    "word_freq = pd.DataFrame(nltk.FreqDist(words).most_common(1000), columns = ['word', 'frequency'])\n",
    "print(word_freq)\n"
   ]
  },
  {
   "cell_type": "code",
   "execution_count": 83,
   "metadata": {},
   "outputs": [
    {
     "data": {
      "text/plain": [
       "<AxesSubplot:>"
      ]
     },
     "execution_count": 83,
     "metadata": {},
     "output_type": "execute_result"
    },
    {
     "data": {
      "image/png": "[encoded data removed]",
      "text/plain": [
       "<Figure size 432x288 with 1 Axes>"
      ]
     },
     "metadata": {
      "needs_background": "light"
     },
     "output_type": "display_data"
    }
   ],
   "source": [
    "word_freq.plot(xlim=(0,400))"
   ]
  },
  {
   "cell_type": "markdown",
   "metadata": {},
   "source": [
    "# 2 Learning Word Embeddings\n"
   ]
  },
  {
   "cell_type": "markdown",
   "metadata": {},
   "source": [
    "skip gram model with negative sampling, followed by a GloVe model. But first, how many unique words exist in the corpus?"
   ]
  },
  {
   "cell_type": "markdown",
   "metadata": {},
   "source": [
    "## 2.1 Create Dictionary of Vocabulary "
   ]
  },
  {
   "cell_type": "code",
   "execution_count": 85,
   "metadata": {},
   "outputs": [
    {
     "name": "stdout",
     "output_type": "stream",
     "text": [
      "Reading word 2000000\n",
      "Reading word 3000000\n",
      "Reading word 4000000\n",
      "Total words in training file: 4860294\n",
      "Vocab Size: 77440\n"
     ]
    }
   ],
   "source": [
    "# Tokenize and create dictionary\n",
    "\n",
    "class VocabWord:\n",
    "    def __init__(self, word):\n",
    "        self.word = word\n",
    "        self.count = 0\n",
    "\n",
    "vocab_items = []\n",
    "vocab_hash = {}\n",
    "word_count = 0\n",
    "\n",
    "for token in ['<bol>', '<eol>']:\n",
    "    vocab_hash[token] = len(vocab_items)\n",
    "    vocab_items.append(VocabWord(token))\n",
    "    \n",
    "for line in df['text']:\n",
    "    tokens = line.split()\n",
    "    for token in tokens:\n",
    "        if token not in vocab_hash:\n",
    "            vocab_hash[token] = len(vocab_items)\n",
    "            vocab_items.append(VocabWord(token))\n",
    "            \n",
    "        vocab_items[vocab_hash[token]].count +=1\n",
    "        word_count += 1\n",
    "        \n",
    "        if word_count %1000000 == 0:\n",
    "            print(\"\\rReading word %d\" % word_count)\n",
    "            \n",
    "    \n",
    "    vocab_items[vocab_hash['<bol>']].count += 1\n",
    "    vocab_items[vocab_hash['<eol>']].count += 1\n",
    "    word_count += 2\n",
    "    \n",
    "print('Total words in training file: %d' % word_count)\n",
    "print('Vocab Size: %d' % len(vocab_items))"
   ]
  },
  {
   "cell_type": "markdown",
   "metadata": {},
   "source": [
    "## 2.2 Word2Vec\n",
    "\n",
    "dim = dimension of word vectors\n",
    "win = context window size(number of tokens)\n",
    "start_alpha = starting learning rate\n",
    "neg = number of samples for negative sampling\n",
    "min_count = minimum number of mentions for a word to be included in vocabulary"
   ]
  },
  {
   "cell_type": "code",
   "execution_count": 86,
   "metadata": {},
   "outputs": [],
   "source": [
    "# intialize parameters\n",
    "\n",
    "dim = 100\n",
    "win = 10\n",
    "start_alpha = 0.05\n",
    "neg = 10\n",
    "min_count = 5"
   ]
  },
  {
   "cell_type": "markdown",
   "metadata": {},
   "source": [
    "## 2.3 Handling Rare Words \n",
    "\n",
    "map vocabulary that is below the min_count threshold to out-of-vocabulary token"
   ]
  },
  {
   "cell_type": "code",
   "execution_count": 88,
   "metadata": {},
   "outputs": [
    {
     "name": "stdout",
     "output_type": "stream",
     "text": [
      "Unknown vocab size: 45842\n",
      "Truncated vocab size: 31599\n"
     ]
    }
   ],
   "source": [
    "truncated = []\n",
    "truncated.append(VocabWord('<unk>'))\n",
    "unk_hash = 0\n",
    "\n",
    "count_unk = 0\n",
    "for token in vocab_items:\n",
    "    if token.count < min_count:\n",
    "        count_unk += 1\n",
    "        truncated[unk_hash].count += token.count\n",
    "    else:\n",
    "        truncated.append(token)\n",
    "        \n",
    "truncated.sort(key = lambda token: token.count, reverse = True)\n",
    "\n",
    "vocab_hash = {}\n",
    "\n",
    "for i, token in enumerate(truncated):\n",
    "    vocab_hash[token.word] = i\n",
    "    \n",
    "vocab_items = truncated\n",
    "vocab_hash = vocab_hash\n",
    "vocab_size = len(vocab_items)\n",
    "print('Unknown vocab size:', count_unk)\n",
    "print('Truncated vocab size: %d' % vocab_size )"
   ]
  },
  {
   "cell_type": "markdown",
   "metadata": {},
   "source": [
    "\n",
    "# 2.4 Negative Sampling\n",
    "\n",
    "create a negative sampling lookup table to use during training"
   ]
  },
  {
   "cell_type": "code",
   "execution_count": 89,
   "metadata": {},
   "outputs": [],
   "source": [
    "# create a table of probabilities\n",
    "\n",
    "power = 0.75\n",
    "norm = sum([math.pow(t.count, power) for t in vocab_items])\n",
    "\n",
    "table_size = int(1e8)\n",
    "table = np.zeros(table_size, dtype=np.int)\n",
    "\n",
    "p = 0\n",
    "i = 0\n",
    "\n",
    "for j, unigram in enumerate(vocab_items):\n",
    "    p += float(math.pow(unigram.count, power))/norm\n",
    "    while i < table_size and float(i)/ table_size < p:\n",
    "        table[i] = j\n",
    "        i += 1\n",
    "\n",
    "def sample(table, count):\n",
    "    indices = np.random.randint(low = 0, high=len(table), size = count)\n",
    "    return [ table[i] for i in indices]"
   ]
  },
  {
   "cell_type": "markdown",
   "metadata": {},
   "source": [
    "# 2.5 Training the Model"
   ]
  },
  {
   "cell_type": "code",
   "execution_count": 91,
   "metadata": {},
   "outputs": [
    {
     "name": "stdout",
     "output_type": "stream",
     "text": [
      "Reading sentence 2000\n",
      "Reading sentence 4000\n",
      "Reading sentence 6000\n",
      "Reading sentence 8000\n",
      "Reading sentence 10000\n",
      "Reading sentence 12000\n",
      "Reading sentence 14000\n",
      "Reading sentence 16000\n",
      "Reading sentence 18000\n",
      "Reading sentence 20000\n",
      "Reading sentence 22000\n",
      "Reading sentence 24000\n",
      "Reading sentence 26000\n",
      "Reading sentence 28000\n",
      "Reading sentence 30000\n",
      "Reading sentence 32000\n",
      "Reading sentence 34000\n",
      "Reading sentence 36000\n",
      "Reading sentence 38000\n",
      "Reading sentence 40000\n",
      "Reading sentence 42000\n",
      "Reading sentence 44000\n",
      "Reading sentence 46000\n",
      "Reading sentence 48000\n",
      "Reading sentence 50000\n",
      "Reading sentence 52000\n",
      "Reading sentence 54000\n",
      "Reading sentence 56000\n",
      "Reading sentence 58000\n",
      "Reading sentence 60000\n",
      "Reading sentence 62000\n",
      "Reading sentence 64000\n",
      "Reading sentence 66000\n",
      "Reading sentence 68000\n",
      "Reading sentence 70000\n",
      "Reading sentence 72000\n",
      "Reading sentence 74000\n",
      "Reading sentence 76000\n",
      "Reading sentence 78000\n",
      "Reading sentence 80000\n",
      "Reading sentence 82000\n",
      "Reading sentence 84000\n",
      "Reading sentence 86000\n",
      "Reading sentence 88000\n",
      "Reading sentence 90000\n",
      "Reading sentence 92000\n",
      "Reading sentence 94000\n",
      "Reading sentence 96000\n",
      "Reading sentence 98000\n",
      "Reading sentence 100000\n",
      "Reading sentence 102000\n",
      "Reading sentence 104000\n",
      "Reading sentence 106000\n",
      "Reading sentence 108000\n",
      "Reading sentence 110000\n",
      "Reading sentence 112000\n",
      "Reading sentence 114000\n",
      "Reading sentence 116000\n",
      "Reading sentence 118000\n",
      "Reading sentence 120000\n",
      "Reading sentence 122000\n",
      "Reading sentence 124000\n",
      "Reading sentence 126000\n",
      "Reading sentence 128000\n",
      "Reading sentence 130000\n",
      "Reading sentence 132000\n",
      "Reading sentence 134000\n",
      "Reading sentence 136000\n",
      "Reading sentence 138000\n",
      "Reading sentence 140000\n",
      "Reading sentence 142000\n",
      "Reading sentence 144000\n",
      "Reading sentence 146000\n",
      "Reading sentence 148000\n",
      "Reading sentence 150000\n",
      "Reading sentence 152000\n",
      "Reading sentence 154000\n",
      "Reading sentence 156000\n",
      "Reading sentence 158000\n",
      "Reading sentence 160000\n",
      "Reading sentence 162000\n",
      "Reading sentence 164000\n",
      "Reading sentence 166000\n",
      "Reading sentence 168000\n",
      "Reading sentence 170000\n",
      "Reading sentence 172000\n",
      "Reading sentence 174000\n",
      "Reading sentence 176000\n",
      "Reading sentence 178000\n",
      "Reading sentence 180000\n",
      "Reading sentence 182000\n",
      "Reading sentence 184000\n",
      "Reading sentence 186000\n",
      "Reading sentence 188000\n",
      "Reading sentence 190000\n",
      "Reading sentence 192000\n",
      "Reading sentence 194000\n",
      "Reading sentence 196000\n",
      "Reading sentence 198000\n",
      "Reading sentence 200000\n",
      "Reading sentence 202000\n",
      "Reading sentence 204000\n",
      "Reading sentence 206000\n",
      "Reading sentence 208000\n",
      "Reading sentence 210000\n",
      "Reading sentence 212000\n",
      "Reading sentence 214000\n",
      "Trained embeddings\n",
      "(31599, 100)\n"
     ]
    }
   ],
   "source": [
    "import struct\n",
    "\n",
    "def sigmoid(z):\n",
    "    if z > 6:\n",
    "        return 1.0\n",
    "    elif z < -6:\n",
    "        return 0.0\n",
    "    else:\n",
    "        return 1 / (1 + math.exp(-z))\n",
    "    \n",
    "tmp = np.random.uniform(low = -0.5/dim, high=0.5/dim, size = (vocab_size, dim))\n",
    "syn0 = np.ctypeslib.as_ctypes(tmp)\n",
    "syn0 = np.array(syn0)\n",
    "\n",
    "tmp = np.zeros(shape=(vocab_size, dim))\n",
    "syn1 = np.ctypeslib.as_ctypes(tmp)\n",
    "syn1 = np.array(syn1)\n",
    "\n",
    "current_sent = 0\n",
    "truncated_vocabulary = [x.word for x in vocab_items]\n",
    "corpus = df['text'].tolist()\n",
    "\n",
    "while current_sent < df.count()[0]:\n",
    "#     line \n",
    "    line = corpus[current_sent]\n",
    "#     current sentence, if the token is found within the truncated vocabulary list\n",
    "#     then accept the token, else map it to the unknown token, and do this for every token \n",
    "#     from the begining of the line to the end of teh line(sentence)\n",
    "    sent = [vocab_hash[token] if token in truncated_vocabulary else vocab_hash['<unk>']\n",
    "           for token in [['<bol>'] + line.split() + ['<eol>']]]\n",
    "    \n",
    "#     for every sentence position at every token in the sentence\n",
    "    for sent_pos, token in enumerate(sent):\n",
    "        \n",
    "#         randomly set the size of the current window\n",
    "        current_win = np.random.randint(low=1, high=win+1)\n",
    "#     must subtract so that the start of the context window is the left most context posistion\n",
    "        context_start = max(sent_pos - current_win, 0)\n",
    "#     must add so that the end of the context window is the right most context position\n",
    "        context_end = min(sent_pos + current_win + 1, len(sent))\n",
    "#     also necessary to skip over the current sentence position as this is a skip-gram model\n",
    "        context = sent[context_start:sent_pos] + sent[sent_pos+1:context_end]\n",
    "        \n",
    "        \n",
    "#         for every context word within the context window\n",
    "        for context_word in context:\n",
    "#         embed the word\n",
    "            embed = np.zeros(DIM)\n",
    "            classifiers = [(token, 1) + target[(target, 0)] for target in table.sample(neg)]\n",
    "            \n",
    "            for target, label in classifiers:\n",
    "                \n",
    "                z = np.dot(syn0[context_word], syn1[target])\n",
    "                #activation function\n",
    "                p = sigmoid(z)\n",
    "                g = alpha * (label - p)\n",
    "                embed += g * syn1[target]\n",
    "                syn1[target] += g * syn0[context_word]\n",
    "            syn0[context_word] += embed\n",
    "            \n",
    "        word_count += 1\n",
    "    current_sent += 1\n",
    "    if current_sent %2000 == 0:\n",
    "        print('\\rReading sentence %d' % current_sent)\n",
    "        \n",
    "embedding = dict(zip(truncated_vocabulary, syn0))\n",
    "print('Trained embeddings')\n",
    "\n",
    "# Save embeddings\n",
    "\n",
    "fo = open(\"word2vec\", 'w+')\n",
    "for token, vector in zip(truncated_vocabulary, syn0):\n",
    "    fo.write('%s' % token)\n",
    "    for s in vector:\n",
    "        fo.write(('%f' % s))\n",
    "    fo.write('\\n')\n",
    "fo.close()\n",
    "\n",
    "print(syn0.shape)"
   ]
  },
  {
   "cell_type": "code",
   "execution_count": null,
   "metadata": {},
   "outputs": [],
   "source": []
  }
 ],
 "metadata": {
  "kernelspec": {
   "display_name": "Python 3",
   "language": "python",
   "name": "python3"
  },
  "language_info": {
   "codemirror_mode": {
    "name": "ipython",
    "version": 3
   },
   "file_extension": ".py",
   "mimetype": "text/x-python",
   "name": "python",
   "nbconvert_exporter": "python",
   "pygments_lexer": "ipython3",
   "version": "3.8.5"
  }
 },
 "nbformat": 4,
 "nbformat_minor": 4
}
